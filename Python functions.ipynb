{
 "cells": [
  {
   "cell_type": "code",
   "execution_count": 5,
   "id": "a83c88b0-1954-4bf9-8696-c438bd5d5b18",
   "metadata": {},
   "outputs": [],
   "source": [
    "def greet():\n",
    "    print('hello')\n",
    "    print('good morning')\n",
    "## when we run the code we havent got any output "
   ]
  },
  {
   "cell_type": "code",
   "execution_count": 7,
   "id": "b1ed9d7a-cf44-4ae2-ad93-33c6b8279040",
   "metadata": {},
   "outputs": [
    {
     "name": "stdout",
     "output_type": "stream",
     "text": [
      "hello\n",
      "good morning\n"
     ]
    }
   ],
   "source": [
    "def greet():\n",
    "    print('hello')\n",
    "    print('good morning')\n",
    "greet()\n",
    "#if you need call multiple times"
   ]
  },
  {
   "cell_type": "code",
   "execution_count": 9,
   "id": "2167f0c2-c53a-4f23-85b6-4aa4bb4f4b58",
   "metadata": {},
   "outputs": [
    {
     "name": "stdout",
     "output_type": "stream",
     "text": [
      "hello\n",
      "good morning\n",
      "hello\n",
      "good morning\n"
     ]
    }
   ],
   "source": [
    "def greet():\n",
    "    print('hello')\n",
    "    print('good morning')\n",
    "greet() #if you need call multiple times \n",
    "\n",
    "def greet():\n",
    "    print('hello')\n",
    "    print('good morning')\n",
    "greet() #if you need call multiple times "
   ]
  },
  {
   "cell_type": "code",
   "execution_count": 11,
   "id": "7885ff02-ac41-44bd-8d4f-1ae29e703219",
   "metadata": {},
   "outputs": [
    {
     "name": "stdout",
     "output_type": "stream",
     "text": [
      "hello\n",
      "good noon\n",
      "hello\n",
      "good noon\n"
     ]
    }
   ],
   "source": [
    "def greet():\n",
    "    print('hello')\n",
    "    print('good noon')\n",
    "greet()\n",
    "\n",
    "greet()"
   ]
  },
  {
   "cell_type": "code",
   "execution_count": 13,
   "id": "5d2323e5-d464-46d3-8a5c-b3ca1a2e3b0b",
   "metadata": {},
   "outputs": [
    {
     "name": "stdout",
     "output_type": "stream",
     "text": [
      "hello\n",
      "good noon\n",
      "\n",
      "hello\n",
      "good noon\n"
     ]
    }
   ],
   "source": [
    "def greet():\n",
    "    print('hello')\n",
    "    print('good noon')\n",
    "greet()\n",
    "\n",
    "print()\n",
    "\n",
    "greet()"
   ]
  },
  {
   "cell_type": "code",
   "execution_count": 15,
   "id": "3b737820-d124-4d80-a941-1cd3c17df216",
   "metadata": {},
   "outputs": [
    {
     "name": "stdout",
     "output_type": "stream",
     "text": [
      "11\n"
     ]
    }
   ],
   "source": [
    "def add(x,y):\n",
    "    c=x+y\n",
    "    print(c)  \n",
    "add(5,6)"
   ]
  },
  {
   "cell_type": "code",
   "execution_count": 17,
   "id": "914c8441-d0d7-4587-986a-ff2e2513f507",
   "metadata": {},
   "outputs": [
    {
     "name": "stdout",
     "output_type": "stream",
     "text": [
      "10\n"
     ]
    }
   ],
   "source": [
    "def add(x,y,z):\n",
    "    c=x+y+z\n",
    "    print(c)  \n",
    "add(1,4,5)"
   ]
  },
  {
   "cell_type": "code",
   "execution_count": 19,
   "id": "c595850e-dea1-49c6-b0a4-03cdab6d8aa2",
   "metadata": {},
   "outputs": [
    {
     "name": "stdout",
     "output_type": "stream",
     "text": [
      "hello\n",
      "good noon\n",
      "9\n"
     ]
    }
   ],
   "source": [
    "def greet():\n",
    "    print('hello')\n",
    "    print('good noon')\n",
    "greet()\n",
    "\n",
    "def add(x,y):\n",
    "    c=x+y\n",
    "    print(c)\n",
    "add(5,4)"
   ]
  },
  {
   "cell_type": "code",
   "execution_count": 21,
   "id": "c9c1ef48-1dc7-4db8-a2e0-a0a52e6386c2",
   "metadata": {},
   "outputs": [
    {
     "name": "stdout",
     "output_type": "stream",
     "text": [
      "hello\n",
      "good noon\n",
      "9\n",
      "4\n"
     ]
    }
   ],
   "source": [
    "def greet():\n",
    "    print('hello')\n",
    "    print('good noon')\n",
    "    \n",
    "def add(x,y):\n",
    "    c=x+y\n",
    "    print(c)\n",
    "\n",
    "def sub(x,y,z):\n",
    "    d = x-y-z\n",
    "    print(d)\n",
    "    \n",
    "greet()    \n",
    "add(5,4)\n",
    "sub(10,2,4)"
   ]
  },
  {
   "cell_type": "code",
   "execution_count": 23,
   "id": "77cc303f-d6c8-4be9-9a9c-4ccd45ef4bb3",
   "metadata": {},
   "outputs": [
    {
     "name": "stdout",
     "output_type": "stream",
     "text": [
      "hello\n",
      "good noon\n",
      "9\n"
     ]
    }
   ],
   "source": [
    "def greet():\n",
    "    print('hello')\n",
    "    print('good noon')\n",
    "greet()\n",
    "\n",
    "def add(x,y):\n",
    "    c=x+y\n",
    "    return c\n",
    "\n",
    "result = add(5,4)\n",
    "print(result)"
   ]
  },
  {
   "cell_type": "code",
   "execution_count": 25,
   "id": "1764bf94-5672-45a8-9720-2e5edb55d29a",
   "metadata": {},
   "outputs": [
    {
     "name": "stdout",
     "output_type": "stream",
     "text": [
      "hello\n",
      "good noon\n",
      "12\n"
     ]
    }
   ],
   "source": [
    "def greet():\n",
    "    print('hello')\n",
    "    print('good noon')\n",
    "\n",
    "def add(x,y,z):\n",
    "    c=x+y+z\n",
    "    return c\n",
    "\n",
    "greet()\n",
    "\n",
    "result = add(5,4,3)\n",
    "print(result) "
   ]
  },
  {
   "cell_type": "code",
   "execution_count": 27,
   "id": "aad2c639-1b2b-47cc-8dd3-45ec194eb3a5",
   "metadata": {},
   "outputs": [
    {
     "data": {
      "text/plain": [
       "(9, -1)"
      ]
     },
     "execution_count": 27,
     "metadata": {},
     "output_type": "execute_result"
    }
   ],
   "source": [
    "def add_sub(x,y): \n",
    "    c= x+y\n",
    "    d= x-y\n",
    "    return c, d\n",
    "    \n",
    "add_sub(4,5)"
   ]
  },
  {
   "cell_type": "code",
   "execution_count": 29,
   "id": "d07eeaa6-7dda-4ed3-95a0-88d3bdc2aa59",
   "metadata": {},
   "outputs": [
    {
     "name": "stdout",
     "output_type": "stream",
     "text": [
      "(9, -1)\n",
      "<class 'tuple'>\n"
     ]
    }
   ],
   "source": [
    "def add_sub(x,y): # what if i want to return 2 values add_sub & i want to return 2 values & function can accept multiple value \n",
    "    c= x+y\n",
    "    d= x-y\n",
    "    return c, d\n",
    "    \n",
    "result = add_sub(4,5)\n",
    "\n",
    "print(result)\n",
    "print(type(result))"
   ]
  },
  {
   "cell_type": "code",
   "execution_count": 31,
   "id": "dbd1d4cc-3a40-474a-b13a-26f6cf046778",
   "metadata": {},
   "outputs": [
    {
     "name": "stdout",
     "output_type": "stream",
     "text": [
      "9 1\n",
      "<class 'int'>\n",
      "<class 'int'>\n"
     ]
    }
   ],
   "source": [
    "def add_sub(x,y):\n",
    "    c= x+y\n",
    "    d= x-y\n",
    "    return c, d\n",
    "\n",
    "result1,result2 = add_sub(5,4)\n",
    "\n",
    "print(result1,result2)\n",
    "\n",
    "print(type(result1))\n",
    "print(type(result2))"
   ]
  },
  {
   "cell_type": "markdown",
   "id": "b4f583fd-71e2-4fc1-9901-12e0a3c3dd4b",
   "metadata": {},
   "source": [
    "# Function Arguments"
   ]
  },
  {
   "cell_type": "code",
   "execution_count": 34,
   "id": "d5d75026-9870-4fb2-bed4-deb2b7e48e2d",
   "metadata": {},
   "outputs": [
    {
     "name": "stdout",
     "output_type": "stream",
     "text": [
      "8\n"
     ]
    }
   ],
   "source": [
    "def update(): \n",
    "    x = 8\n",
    "    print(x)\n",
    "update()"
   ]
  },
  {
   "cell_type": "code",
   "execution_count": 36,
   "id": "2e48579c-e4ea-4d85-86e4-3bad5b41e108",
   "metadata": {},
   "outputs": [
    {
     "ename": "TypeError",
     "evalue": "update() takes 0 positional arguments but 1 was given",
     "output_type": "error",
     "traceback": [
      "\u001b[1;31m---------------------------------------------------------------------------\u001b[0m",
      "\u001b[1;31mTypeError\u001b[0m                                 Traceback (most recent call last)",
      "Cell \u001b[1;32mIn[36], line 4\u001b[0m\n\u001b[0;32m      2\u001b[0m     x \u001b[38;5;241m=\u001b[39m \u001b[38;5;241m8\u001b[39m\n\u001b[0;32m      3\u001b[0m     \u001b[38;5;28mprint\u001b[39m(x)\n\u001b[1;32m----> 4\u001b[0m update(\u001b[38;5;241m8\u001b[39m)\n",
      "\u001b[1;31mTypeError\u001b[0m: update() takes 0 positional arguments but 1 was given"
     ]
    }
   ],
   "source": [
    "def update(): #update function take the value from the user\n",
    "    x = 8\n",
    "    print(x)\n",
    "update(8)"
   ]
  },
  {
   "cell_type": "code",
   "execution_count": 38,
   "id": "3ead8cd5-4dae-4c87-afc4-6171b60057c5",
   "metadata": {},
   "outputs": [
    {
     "name": "stdout",
     "output_type": "stream",
     "text": [
      "8\n"
     ]
    }
   ],
   "source": [
    "def update(x): #update function take the value from the user\n",
    "    x = 8\n",
    "    print(x)\n",
    "    \n",
    "update(100)"
   ]
  },
  {
   "cell_type": "code",
   "execution_count": 40,
   "id": "e437e362-8f6f-4f54-aa6f-e16bcd71186c",
   "metadata": {},
   "outputs": [
    {
     "name": "stdout",
     "output_type": "stream",
     "text": [
      "8\n"
     ]
    }
   ],
   "source": [
    "def update(x): # user want to update the value from 8 to 10 \n",
    "    x = 8\n",
    "    print(x)\n",
    "    \n",
    "update(10)"
   ]
  },
  {
   "cell_type": "code",
   "execution_count": 42,
   "id": "1dedd132-013c-4d52-9de9-ddc7ef875bc3",
   "metadata": {},
   "outputs": [
    {
     "name": "stdout",
     "output_type": "stream",
     "text": [
      "8\n",
      "10\n"
     ]
    }
   ],
   "source": [
    "def update(x):  \n",
    "    x = 8\n",
    "    print(x)\n",
    "    \n",
    "a = 10\n",
    "update(a)\n",
    "print(a)"
   ]
  },
  {
   "cell_type": "code",
   "execution_count": 44,
   "id": "a3554644-16d3-4113-bc1c-8c7e94e26f93",
   "metadata": {},
   "outputs": [
    {
     "name": "stdout",
     "output_type": "stream",
     "text": [
      "10\n"
     ]
    }
   ],
   "source": [
    "def update(x):  \n",
    "    x = 8\n",
    "    #print(x) \n",
    "    \n",
    "a = 10\n",
    "update(a)\n",
    "print(a) # this print will update 8 to 5"
   ]
  },
  {
   "cell_type": "raw",
   "id": "7db4e2a6-5789-43c4-b8ad-241336509ada",
   "metadata": {},
   "source": [
    "Types of arguments\n",
    "1.Formal\n",
    "2.Actual"
   ]
  },
  {
   "cell_type": "code",
   "execution_count": 46,
   "id": "82c36fea-fab8-4d0c-b8e7-0c25176a0d00",
   "metadata": {},
   "outputs": [
    {
     "name": "stdout",
     "output_type": "stream",
     "text": [
      "11\n"
     ]
    }
   ],
   "source": [
    "def add(a,b): # a & b called formal argument\n",
    "    c = a+b\n",
    "    print(c)\n",
    "    \n",
    "add(5,6) #5 and 6 we called as actual argument"
   ]
  },
  {
   "cell_type": "code",
   "execution_count": 48,
   "id": "47a8c574-9424-44df-8440-17128d6fbaf5",
   "metadata": {},
   "outputs": [
    {
     "name": "stdout",
     "output_type": "stream",
     "text": [
      "18\n"
     ]
    }
   ],
   "source": [
    "def add(a,b,d): # a & b called formal argument\n",
    "    c = a+b+d\n",
    "    print(c)\n",
    "    \n",
    "add(5,6,7) #5 and 6 we called as actual argument"
   ]
  },
  {
   "cell_type": "markdown",
   "id": "ad246a1c-c206-47d9-aae6-21598e913911",
   "metadata": {},
   "source": [
    "# Positional Argument"
   ]
  },
  {
   "cell_type": "code",
   "execution_count": 51,
   "id": "bc397268-8634-4c65-8dae-106ac30beca5",
   "metadata": {},
   "outputs": [
    {
     "name": "stdout",
     "output_type": "stream",
     "text": [
      "nit\n",
      "22\n"
     ]
    }
   ],
   "source": [
    "def person(name,age):\n",
    "    print(name)\n",
    "    print(age)\n",
    "    \n",
    "person('nit', 22)"
   ]
  },
  {
   "cell_type": "code",
   "execution_count": 53,
   "id": "8bf3cb26-f175-4dd4-88b1-f519f51aa694",
   "metadata": {},
   "outputs": [
    {
     "name": "stdout",
     "output_type": "stream",
     "text": [
      "22\n",
      "nit\n"
     ]
    }
   ],
   "source": [
    "def person(name,age):\n",
    "    print(name)\n",
    "    print(age)\n",
    "    \n",
    "person(22,'nit')"
   ]
  },
  {
   "cell_type": "code",
   "execution_count": 59,
   "id": "a836185f-8729-4e20-a8be-76388e2296fb",
   "metadata": {},
   "outputs": [
    {
     "name": "stdout",
     "output_type": "stream",
     "text": [
      "20\n"
     ]
    },
    {
     "ename": "TypeError",
     "evalue": "unsupported operand type(s) for -: 'str' and 'int'",
     "output_type": "error",
     "traceback": [
      "\u001b[1;31m---------------------------------------------------------------------------\u001b[0m",
      "\u001b[1;31mTypeError\u001b[0m                                 Traceback (most recent call last)",
      "Cell \u001b[1;32mIn[59], line 5\u001b[0m\n\u001b[0;32m      2\u001b[0m     \u001b[38;5;28mprint\u001b[39m(name)\n\u001b[0;32m      3\u001b[0m     \u001b[38;5;28mprint\u001b[39m(age\u001b[38;5;241m-\u001b[39m\u001b[38;5;241m5\u001b[39m)\n\u001b[1;32m----> 5\u001b[0m person(\u001b[38;5;241m20\u001b[39m,\u001b[38;5;124m'\u001b[39m\u001b[38;5;124mnit\u001b[39m\u001b[38;5;124m'\u001b[39m)\n",
      "Cell \u001b[1;32mIn[59], line 3\u001b[0m, in \u001b[0;36mperson\u001b[1;34m(name, age)\u001b[0m\n\u001b[0;32m      1\u001b[0m \u001b[38;5;28;01mdef\u001b[39;00m \u001b[38;5;21mperson\u001b[39m(name,age):\n\u001b[0;32m      2\u001b[0m     \u001b[38;5;28mprint\u001b[39m(name)\n\u001b[1;32m----> 3\u001b[0m     \u001b[38;5;28mprint\u001b[39m(age\u001b[38;5;241m-\u001b[39m\u001b[38;5;241m5\u001b[39m)\n",
      "\u001b[1;31mTypeError\u001b[0m: unsupported operand type(s) for -: 'str' and 'int'"
     ]
    }
   ],
   "source": [
    "def person(name,age):\n",
    "    print(name)\n",
    "    print(age-5)\n",
    "    \n",
    "person(20,'nit') "
   ]
  },
  {
   "cell_type": "code",
   "execution_count": 57,
   "id": "779512e7-0496-4bd3-8d17-fa66646ed109",
   "metadata": {},
   "outputs": [
    {
     "name": "stdout",
     "output_type": "stream",
     "text": [
      "nit\n",
      "15\n"
     ]
    }
   ],
   "source": [
    "def person(name,age):\n",
    "    print(name)\n",
    "    print(age-5)\n",
    "    \n",
    "person('nit',20) "
   ]
  },
  {
   "cell_type": "markdown",
   "id": "30351708-bfa6-4c12-b59b-35219045fe88",
   "metadata": {},
   "source": [
    "# Keywoed Argument"
   ]
  },
  {
   "cell_type": "code",
   "execution_count": 62,
   "id": "0eacb158-a5b8-42a1-9083-fcdebb2d371a",
   "metadata": {},
   "outputs": [
    {
     "name": "stdout",
     "output_type": "stream",
     "text": [
      "20\n"
     ]
    },
    {
     "ename": "TypeError",
     "evalue": "unsupported operand type(s) for -: 'str' and 'int'",
     "output_type": "error",
     "traceback": [
      "\u001b[1;31m---------------------------------------------------------------------------\u001b[0m",
      "\u001b[1;31mTypeError\u001b[0m                                 Traceback (most recent call last)",
      "Cell \u001b[1;32mIn[62], line 5\u001b[0m\n\u001b[0;32m      2\u001b[0m     \u001b[38;5;28mprint\u001b[39m(name)\n\u001b[0;32m      3\u001b[0m     \u001b[38;5;28mprint\u001b[39m(age\u001b[38;5;241m-\u001b[39m\u001b[38;5;241m5\u001b[39m)\n\u001b[1;32m----> 5\u001b[0m person(\u001b[38;5;241m20\u001b[39m,\u001b[38;5;124m'\u001b[39m\u001b[38;5;124mnit\u001b[39m\u001b[38;5;124m'\u001b[39m)\n",
      "Cell \u001b[1;32mIn[62], line 3\u001b[0m, in \u001b[0;36mperson\u001b[1;34m(name, age)\u001b[0m\n\u001b[0;32m      1\u001b[0m \u001b[38;5;28;01mdef\u001b[39;00m \u001b[38;5;21mperson\u001b[39m(name,age):\n\u001b[0;32m      2\u001b[0m     \u001b[38;5;28mprint\u001b[39m(name)\n\u001b[1;32m----> 3\u001b[0m     \u001b[38;5;28mprint\u001b[39m(age\u001b[38;5;241m-\u001b[39m\u001b[38;5;241m5\u001b[39m)\n",
      "\u001b[1;31mTypeError\u001b[0m: unsupported operand type(s) for -: 'str' and 'int'"
     ]
    }
   ],
   "source": [
    "def person(name,age):\n",
    "    print(name)\n",
    "    print(age-5)\n",
    "    \n",
    "person(20,'nit') "
   ]
  },
  {
   "cell_type": "code",
   "execution_count": 64,
   "id": "36c78b44-fcca-4983-adcd-d3c02380075f",
   "metadata": {},
   "outputs": [
    {
     "name": "stdout",
     "output_type": "stream",
     "text": [
      "nit\n",
      "15\n"
     ]
    }
   ],
   "source": [
    "def person(name,age):\n",
    "    print(name)\n",
    "    print(age-5)\n",
    "    \n",
    "person(age = 20, name = 'nit') "
   ]
  },
  {
   "cell_type": "code",
   "execution_count": 66,
   "id": "93163a59-6ddb-46e6-ab54-fb08e350fb5a",
   "metadata": {},
   "outputs": [
    {
     "name": "stdout",
     "output_type": "stream",
     "text": [
      "nit\n",
      "20\n"
     ]
    }
   ],
   "source": [
    "def person(name, age):\n",
    "    print(name)\n",
    "    print(age)\n",
    "    \n",
    "person(age = 20,  name = 'nit') "
   ]
  },
  {
   "cell_type": "code",
   "execution_count": 68,
   "id": "863e329c-0a46-484c-aaf3-d8276c5d7802",
   "metadata": {},
   "outputs": [
    {
     "name": "stdout",
     "output_type": "stream",
     "text": [
      "nit\n",
      "20\n",
      "1\n"
     ]
    }
   ],
   "source": [
    "def person(name, age, age2):\n",
    "    print(name)\n",
    "    print(age)\n",
    "    print(age2)\n",
    "    \n",
    "person(age = 20,  name = 'nit', age2 = 1)"
   ]
  },
  {
   "cell_type": "markdown",
   "id": "b2db1d73-1bf5-4766-b2a1-4810abd81cdc",
   "metadata": {},
   "source": [
    "# Default Argument"
   ]
  },
  {
   "cell_type": "code",
   "execution_count": 71,
   "id": "a98600e1-53ba-4786-bd98-42fd92540498",
   "metadata": {},
   "outputs": [
    {
     "name": "stdout",
     "output_type": "stream",
     "text": [
      "nit\n"
     ]
    },
    {
     "ename": "NameError",
     "evalue": "name 'age' is not defined",
     "output_type": "error",
     "traceback": [
      "\u001b[1;31m---------------------------------------------------------------------------\u001b[0m",
      "\u001b[1;31mNameError\u001b[0m                                 Traceback (most recent call last)",
      "Cell \u001b[1;32mIn[71], line 5\u001b[0m\n\u001b[0;32m      2\u001b[0m     \u001b[38;5;28mprint\u001b[39m(name)\n\u001b[0;32m      3\u001b[0m     \u001b[38;5;28mprint\u001b[39m(age)\n\u001b[1;32m----> 5\u001b[0m person(\u001b[38;5;124m'\u001b[39m\u001b[38;5;124mnit\u001b[39m\u001b[38;5;124m'\u001b[39m)\n",
      "Cell \u001b[1;32mIn[71], line 3\u001b[0m, in \u001b[0;36mperson\u001b[1;34m(name)\u001b[0m\n\u001b[0;32m      1\u001b[0m \u001b[38;5;28;01mdef\u001b[39;00m \u001b[38;5;21mperson\u001b[39m(name): \u001b[38;5;66;03m#in this code we expected to print 2 but we got bydefault \u001b[39;00m\n\u001b[0;32m      2\u001b[0m     \u001b[38;5;28mprint\u001b[39m(name)\n\u001b[1;32m----> 3\u001b[0m     \u001b[38;5;28mprint\u001b[39m(age)\n",
      "\u001b[1;31mNameError\u001b[0m: name 'age' is not defined"
     ]
    }
   ],
   "source": [
    "def person(name): #in this code we expected to print 2 but we got bydefault \n",
    "    print(name)\n",
    "    print(age)\n",
    "    \n",
    "person('nit') "
   ]
  },
  {
   "cell_type": "code",
   "execution_count": 73,
   "id": "101a4a18-9efe-4d6b-9295-f2b80929ee1b",
   "metadata": {},
   "outputs": [
    {
     "name": "stdout",
     "output_type": "stream",
     "text": [
      "nit\n",
      "18\n"
     ]
    }
   ],
   "source": [
    "def person(name,age = 18): \n",
    "    print(name)\n",
    "    print(age)\n",
    "    \n",
    "person('nit')"
   ]
  },
  {
   "cell_type": "code",
   "execution_count": 75,
   "id": "7c362361-9518-4a64-9a45-a4bf98f160d0",
   "metadata": {},
   "outputs": [
    {
     "name": "stdout",
     "output_type": "stream",
     "text": [
      "nit\n",
      "24\n"
     ]
    }
   ],
   "source": [
    "def person(name,age = 18):  \n",
    "    print(name)\n",
    "    print(age)\n",
    "    \n",
    "person('nit',24)"
   ]
  },
  {
   "cell_type": "markdown",
   "id": "d56c062c-cfe5-4ab5-b6b3-210c3fbcf3bc",
   "metadata": {},
   "source": [
    "# Variable length Argument"
   ]
  },
  {
   "cell_type": "code",
   "execution_count": 78,
   "id": "37efc2bb-24aa-41ab-894f-17196ff7d311",
   "metadata": {},
   "outputs": [
    {
     "name": "stdout",
     "output_type": "stream",
     "text": [
      "11\n"
     ]
    }
   ],
   "source": [
    "def sum(a, b):\n",
    "    c = a+b\n",
    "    print(c)\n",
    "    \n",
    "sum(5,6) "
   ]
  },
  {
   "cell_type": "code",
   "execution_count": 80,
   "id": "325809c3-1ae1-4e36-a6d8-2c3c656971c8",
   "metadata": {},
   "outputs": [
    {
     "ename": "TypeError",
     "evalue": "sum() takes 2 positional arguments but 4 were given",
     "output_type": "error",
     "traceback": [
      "\u001b[1;31m---------------------------------------------------------------------------\u001b[0m",
      "\u001b[1;31mTypeError\u001b[0m                                 Traceback (most recent call last)",
      "Cell \u001b[1;32mIn[80], line 5\u001b[0m\n\u001b[0;32m      2\u001b[0m     c \u001b[38;5;241m=\u001b[39m a\u001b[38;5;241m+\u001b[39mb\n\u001b[0;32m      3\u001b[0m     \u001b[38;5;28mprint\u001b[39m(c)\n\u001b[1;32m----> 5\u001b[0m \u001b[38;5;28msum\u001b[39m(\u001b[38;5;241m5\u001b[39m,\u001b[38;5;241m6\u001b[39m,\u001b[38;5;241m7\u001b[39m,\u001b[38;5;241m8\u001b[39m)\n",
      "\u001b[1;31mTypeError\u001b[0m: sum() takes 2 positional arguments but 4 were given"
     ]
    }
   ],
   "source": [
    "def sum(a, b):\n",
    "    c = a+b\n",
    "    print(c)\n",
    "    \n",
    "sum(5,6,7,8) "
   ]
  },
  {
   "cell_type": "code",
   "execution_count": 82,
   "id": "3caba141-9996-483d-8598-dd1c96ff76a6",
   "metadata": {},
   "outputs": [
    {
     "ename": "TypeError",
     "evalue": "unsupported operand type(s) for +: 'int' and 'tuple'",
     "output_type": "error",
     "traceback": [
      "\u001b[1;31m---------------------------------------------------------------------------\u001b[0m",
      "\u001b[1;31mTypeError\u001b[0m                                 Traceback (most recent call last)",
      "Cell \u001b[1;32mIn[82], line 5\u001b[0m\n\u001b[0;32m      2\u001b[0m     c \u001b[38;5;241m=\u001b[39m a\u001b[38;5;241m+\u001b[39mb\n\u001b[0;32m      3\u001b[0m     \u001b[38;5;28mprint\u001b[39m(c)\n\u001b[1;32m----> 5\u001b[0m \u001b[38;5;28msum\u001b[39m(\u001b[38;5;241m5\u001b[39m,\u001b[38;5;241m6\u001b[39m,\u001b[38;5;241m7\u001b[39m,\u001b[38;5;241m8\u001b[39m)\n",
      "Cell \u001b[1;32mIn[82], line 2\u001b[0m, in \u001b[0;36msum\u001b[1;34m(a, *b)\u001b[0m\n\u001b[0;32m      1\u001b[0m \u001b[38;5;28;01mdef\u001b[39;00m \u001b[38;5;21msum\u001b[39m(a, \u001b[38;5;241m*\u001b[39mb): \u001b[38;5;66;03m# 1st argument is fixed but for 2nd argument\u001b[39;00m\n\u001b[1;32m----> 2\u001b[0m     c \u001b[38;5;241m=\u001b[39m a\u001b[38;5;241m+\u001b[39mb\n\u001b[0;32m      3\u001b[0m     \u001b[38;5;28mprint\u001b[39m(c)\n",
      "\u001b[1;31mTypeError\u001b[0m: unsupported operand type(s) for +: 'int' and 'tuple'"
     ]
    }
   ],
   "source": [
    "def sum(a, *b): # 1st argument is fixed but for 2nd argument\n",
    "    c = a+b\n",
    "    print(c)\n",
    "\n",
    "sum(5,6,7,8)"
   ]
  },
  {
   "cell_type": "code",
   "execution_count": 84,
   "id": "789d5337-9a8d-4435-94e7-2117ace37e60",
   "metadata": {},
   "outputs": [
    {
     "name": "stdout",
     "output_type": "stream",
     "text": [
      "<class 'int'>\n",
      "<class 'tuple'>\n"
     ]
    }
   ],
   "source": [
    "def sum(a, *b): # 1st argument is fixed but for 2nd argument\n",
    "    #c = a+b\n",
    "    print(type(a))\n",
    "    print(type(b))\n",
    "\n",
    "sum(5,6,7,8) "
   ]
  },
  {
   "cell_type": "code",
   "execution_count": 86,
   "id": "5344ee66-1a73-4b51-9c6c-ab2b29f464b1",
   "metadata": {},
   "outputs": [
    {
     "name": "stdout",
     "output_type": "stream",
     "text": [
      "5\n",
      "(6, 7, 8)\n"
     ]
    }
   ],
   "source": [
    "def sum(a, *b): # 1st argument is fixed but for 2nd argument\n",
    "    #c = a+b\n",
    "    print(a)\n",
    "    print(b)\n",
    "\n",
    "sum(5,6,7,8) "
   ]
  },
  {
   "cell_type": "code",
   "execution_count": 88,
   "id": "1de93338-8021-49c0-862e-b5da244282db",
   "metadata": {},
   "outputs": [
    {
     "name": "stdout",
     "output_type": "stream",
     "text": [
      "26\n"
     ]
    }
   ],
   "source": [
    "def sum(a, *b): # 1st argument is fixed & we fetch each value from the tuple & we can add them. \n",
    "    c = a     \n",
    "    for i in b:\n",
    "        c = c + i \n",
    "    print(c)\n",
    "        \n",
    "sum(5,6,7,8) "
   ]
  },
  {
   "cell_type": "code",
   "execution_count": 90,
   "id": "d7fb9d85-eb82-481c-b820-7b543f23913a",
   "metadata": {},
   "outputs": [
    {
     "name": "stdout",
     "output_type": "stream",
     "text": [
      "26\n"
     ]
    }
   ],
   "source": [
    "def sum(a, *b): \n",
    "    \n",
    "    c = a \n",
    "    for i in b:\n",
    "        c = c + i \n",
    "    print(c)\n",
    "    \n",
    "sum(5,6,7,8) "
   ]
  },
  {
   "cell_type": "code",
   "execution_count": 92,
   "id": "36936725-8cc1-443b-b276-7e29ff495b8f",
   "metadata": {},
   "outputs": [
    {
     "name": "stdout",
     "output_type": "stream",
     "text": [
      "21\n"
     ]
    }
   ],
   "source": [
    "def sum(a, *b): \n",
    "    \n",
    "    c = 0\n",
    "    \n",
    "    for i in b:\n",
    "        c = c + i \n",
    "    print(c)\n",
    "    \n",
    "sum(5,6,7,8)"
   ]
  },
  {
   "cell_type": "code",
   "execution_count": 94,
   "id": "c6ef2274-0618-4539-bcff-6d0a70df11c0",
   "metadata": {},
   "outputs": [
    {
     "name": "stdout",
     "output_type": "stream",
     "text": [
      "26\n"
     ]
    }
   ],
   "source": [
    "def sum(a, *b): \n",
    "    \n",
    "    c = 0\n",
    "    for i in b:\n",
    "        c = c + i \n",
    "    print(c)\n",
    "    \n",
    "sum(5,6,7,8,5) "
   ]
  },
  {
   "cell_type": "markdown",
   "id": "196333d4-6b84-47ae-8e6e-92db2b33d77e",
   "metadata": {},
   "source": [
    "# KWARGs(Keyword variable length arguments)"
   ]
  },
  {
   "cell_type": "code",
   "execution_count": 97,
   "id": "4c797797-8190-4276-af66-13f269e02a19",
   "metadata": {},
   "outputs": [],
   "source": [
    "def person():\n",
    "    person('ALEX', 36, 'JOHN', 987767)"
   ]
  },
  {
   "cell_type": "code",
   "execution_count": 99,
   "id": "5e33c7c9-4670-4109-8916-6355789a8ab2",
   "metadata": {},
   "outputs": [
    {
     "name": "stdout",
     "output_type": "stream",
     "text": [
      "ALEX\n",
      "(36, 'JOHN', 987767)\n"
     ]
    }
   ],
   "source": [
    "def person(name,*data):\n",
    "    print(name)\n",
    "    print(data)\n",
    "\n",
    "person('ALEX', 36, 'JOHN', 987767)"
   ]
  },
  {
   "cell_type": "code",
   "execution_count": 101,
   "id": "72baa68f-0ff6-4746-b862-076bf3d187b0",
   "metadata": {},
   "outputs": [
    {
     "ename": "TypeError",
     "evalue": "person() got an unexpected keyword argument 'age'",
     "output_type": "error",
     "traceback": [
      "\u001b[1;31m---------------------------------------------------------------------------\u001b[0m",
      "\u001b[1;31mTypeError\u001b[0m                                 Traceback (most recent call last)",
      "Cell \u001b[1;32mIn[101], line 5\u001b[0m\n\u001b[0;32m      2\u001b[0m     \u001b[38;5;28mprint\u001b[39m(\u001b[38;5;124m'\u001b[39m\u001b[38;5;124mname\u001b[39m\u001b[38;5;124m'\u001b[39m)\n\u001b[0;32m      3\u001b[0m     \u001b[38;5;28mprint\u001b[39m(data)\n\u001b[1;32m----> 5\u001b[0m person(\u001b[38;5;124m'\u001b[39m\u001b[38;5;124mALEX\u001b[39m\u001b[38;5;124m'\u001b[39m, age \u001b[38;5;241m=\u001b[39m \u001b[38;5;241m36\u001b[39m, home_place \u001b[38;5;241m=\u001b[39m\u001b[38;5;124m'\u001b[39m\u001b[38;5;124msouthcity\u001b[39m\u001b[38;5;124m'\u001b[39m, mob \u001b[38;5;241m=\u001b[39m\u001b[38;5;241m987767\u001b[39m)\n",
      "\u001b[1;31mTypeError\u001b[0m: person() got an unexpected keyword argument 'age'"
     ]
    }
   ],
   "source": [
    "def person(name,*data):\n",
    "    print('name')\n",
    "    print(data)\n",
    "\n",
    "person('ALEX', age = 36, home_place ='southcity', mob =987767)"
   ]
  },
  {
   "cell_type": "code",
   "execution_count": 103,
   "id": "431216bf-c902-4ceb-8e6e-b6885c7a2495",
   "metadata": {},
   "outputs": [
    {
     "name": "stdout",
     "output_type": "stream",
     "text": [
      "mark\n",
      "{'age': 36, 'home_place': 'southcity', 'mob': 987767}\n"
     ]
    }
   ],
   "source": [
    "def person(name, **data):\n",
    "    print(name)\n",
    "    print(data)\n",
    "\n",
    "person('mark', age = 36, home_place ='southcity', mob =987767)"
   ]
  },
  {
   "cell_type": "code",
   "execution_count": 105,
   "id": "f600bd35-5114-4aff-bd28-9f6c05bce06f",
   "metadata": {},
   "outputs": [
    {
     "name": "stdout",
     "output_type": "stream",
     "text": [
      "name\n",
      "{'age': 36, 'home_place': 'southcity', 'mob': 987767, 'edu': 'phd', 'actor': 'john'}\n"
     ]
    }
   ],
   "source": [
    "def person(name,**data):\n",
    "    print('name')\n",
    "    print(data)\n",
    "\n",
    "person('mark', age = 36, home_place ='southcity', mob =987767, edu='phd', actor = 'john')\n"
   ]
  },
  {
   "cell_type": "code",
   "execution_count": 107,
   "id": "e9a71cf9-e7cd-479d-a135-bf185cc2f151",
   "metadata": {},
   "outputs": [
    {
     "name": "stdout",
     "output_type": "stream",
     "text": [
      "john\n",
      "age 36\n",
      "home_place southcity\n",
      "mob 987767\n",
      "place USA\n"
     ]
    }
   ],
   "source": [
    "def person(name, **data):\n",
    "    print(name)\n",
    "    \n",
    "    for i, j in data.items():\n",
    "        print(i, j)\n",
    "        \n",
    "person('john', age = 36, home_place ='southcity', mob =987767, place = 'USA')"
   ]
  },
  {
   "cell_type": "markdown",
   "id": "b0198028-f9c7-4689-ace8-38752704b122",
   "metadata": {},
   "source": [
    "# Global variable Vs Local variable"
   ]
  },
  {
   "cell_type": "raw",
   "id": "dbdd0af4-a542-40af-bce4-3f19eaaed46e",
   "metadata": {},
   "source": [
    "-> Outside the function - Global variable\n",
    "-> Inside the function - Local variable"
   ]
  },
  {
   "cell_type": "code",
   "execution_count": 110,
   "id": "b850640b-6ed6-4013-a32d-eb238596d9be",
   "metadata": {},
   "outputs": [
    {
     "name": "stdout",
     "output_type": "stream",
     "text": [
      "10\n"
     ]
    }
   ],
   "source": [
    "a = 10\n",
    "print(a)"
   ]
  },
  {
   "cell_type": "code",
   "execution_count": 112,
   "id": "b6a51e20-553a-48de-a6a2-47e1486a799d",
   "metadata": {},
   "outputs": [],
   "source": [
    "a = 10   #globla variable \n",
    "\n",
    "def something():\n",
    "    b = 15 #local variable\n",
    "    print('in function',b)    \n",
    "    print('out function',a) "
   ]
  },
  {
   "cell_type": "code",
   "execution_count": 114,
   "id": "160991f6-9288-442f-8204-9ebf99ab6283",
   "metadata": {},
   "outputs": [
    {
     "name": "stdout",
     "output_type": "stream",
     "text": [
      "out function 10\n"
     ]
    }
   ],
   "source": [
    "a = 10  \n",
    "\n",
    "def something():\n",
    "    b = 15\n",
    "    print('in function',b)    \n",
    "    \n",
    "print('out function',a) "
   ]
  },
  {
   "cell_type": "code",
   "execution_count": 116,
   "id": "6dc8d4db-22d0-49c9-b7a2-08242122c67a",
   "metadata": {},
   "outputs": [
    {
     "name": "stdout",
     "output_type": "stream",
     "text": [
      "in function 10\n",
      "out function 10\n"
     ]
    }
   ],
   "source": [
    "a = 10  \n",
    "\n",
    "def something():\n",
    "    a = 15\n",
    "    \n",
    "print('in function',a) \n",
    "  \n",
    "print('out function',a)"
   ]
  },
  {
   "cell_type": "code",
   "execution_count": 126,
   "id": "b56bd39e-87f9-4b62-8f76-5fad5eddbcec",
   "metadata": {},
   "outputs": [
    {
     "name": "stdout",
     "output_type": "stream",
     "text": [
      "10\n"
     ]
    }
   ],
   "source": [
    "a = 10  \n",
    "\n",
    "def something():\n",
    "    a = 15\n",
    "    b = 8\n",
    "    print(a)\n",
    "    print(b)\n",
    "print(a)"
   ]
  },
  {
   "cell_type": "code",
   "execution_count": 128,
   "id": "0eb3e845-285e-41a0-88c7-6cc0cf39fe50",
   "metadata": {},
   "outputs": [
    {
     "name": "stdout",
     "output_type": "stream",
     "text": [
      "10\n"
     ]
    }
   ],
   "source": [
    "a = 10  \n",
    "\n",
    "def something():\n",
    "    a = 15  #hear a is local variable \n",
    "    print(a)\n",
    "    \n",
    "print(a)"
   ]
  },
  {
   "cell_type": "code",
   "execution_count": 130,
   "id": "c37fcb5c-9471-4b47-aa67-3bf1793ed068",
   "metadata": {},
   "outputs": [
    {
     "name": "stdout",
     "output_type": "stream",
     "text": [
      "out function 10\n"
     ]
    }
   ],
   "source": [
    "a = 10  \n",
    "\n",
    "def something():\n",
    "    a = 15\n",
    "    print('in function',a)\n",
    "    \n",
    "print('out function',a)"
   ]
  },
  {
   "cell_type": "code",
   "execution_count": 132,
   "id": "3f831215-cdec-40ca-a21a-ca764e9fc9a4",
   "metadata": {},
   "outputs": [
    {
     "name": "stdout",
     "output_type": "stream",
     "text": [
      "in function 15\n",
      "out function 10\n"
     ]
    }
   ],
   "source": [
    "a = 10  \n",
    "\n",
    "def something():\n",
    "    b = 15\n",
    "    print('in function',b)  # local variable\n",
    " \n",
    "something()\n",
    "\n",
    "print('out function',a)"
   ]
  },
  {
   "cell_type": "code",
   "execution_count": 134,
   "id": "74dc523e-dead-47d0-93b9-1d85b2da59fd",
   "metadata": {},
   "outputs": [
    {
     "name": "stdout",
     "output_type": "stream",
     "text": [
      "in function 10\n",
      "out function 10\n"
     ]
    }
   ],
   "source": [
    "a = 10  \n",
    "\n",
    "def something():\n",
    "    print('in function',a)\n",
    "    \n",
    "something()\n",
    "print('out function',a)"
   ]
  },
  {
   "cell_type": "code",
   "execution_count": 136,
   "id": "ad2d2ba7-6205-4cab-b1d8-ed2ed7f833dd",
   "metadata": {},
   "outputs": [
    {
     "name": "stdout",
     "output_type": "stream",
     "text": [
      "in function 25\n",
      "out function 10\n"
     ]
    }
   ],
   "source": [
    "a = 10  \n",
    "\n",
    "def something():\n",
    "    b= 25\n",
    "    print('in function',b)\n",
    "    \n",
    "something()\n",
    "print('out function',a)"
   ]
  },
  {
   "cell_type": "code",
   "execution_count": 138,
   "id": "d63f2e67-5361-4dad-8275-cc84a55d1e72",
   "metadata": {},
   "outputs": [
    {
     "name": "stdout",
     "output_type": "stream",
     "text": [
      "in function 55\n",
      "out function 10\n"
     ]
    }
   ],
   "source": [
    "a = 10  \n",
    "\n",
    "def something():\n",
    "    a = 55\n",
    "    print('in function',a)\n",
    "something()\n",
    "\n",
    "print('out function',a)"
   ]
  },
  {
   "cell_type": "code",
   "execution_count": 140,
   "id": "e0cfbb48-acec-4cbf-b4a2-7038a55cf06c",
   "metadata": {},
   "outputs": [
    {
     "name": "stdout",
     "output_type": "stream",
     "text": [
      "in function 15\n",
      "gloabl variable 10\n",
      "out function 10\n"
     ]
    }
   ],
   "source": [
    "a = 10  \n",
    "\n",
    "def something():\n",
    "    global a \n",
    "    b = 15\n",
    "    print('in function',b)\n",
    "    print('gloabl variable', a)\n",
    "    \n",
    "something()\n",
    "print('out function',a)"
   ]
  },
  {
   "cell_type": "code",
   "execution_count": 142,
   "id": "847b9cc0-7e91-4b0c-a08d-4f5d9c823eb2",
   "metadata": {},
   "outputs": [
    {
     "name": "stdout",
     "output_type": "stream",
     "text": [
      "in function 15\n",
      "out function 9\n"
     ]
    }
   ],
   "source": [
    "a = 20  \n",
    "\n",
    "def something():\n",
    "    global a\n",
    "    a = 15     \n",
    "    print('in function',a)\n",
    "    \n",
    "    a = 9\n",
    "something()\n",
    "\n",
    "print('out function',a)"
   ]
  },
  {
   "cell_type": "code",
   "execution_count": 144,
   "id": "ad905667-068a-4c84-b5f0-2b9bb5ef6c0c",
   "metadata": {},
   "outputs": [
    {
     "data": {
      "text/plain": [
       "['False',\n",
       " 'None',\n",
       " 'True',\n",
       " 'and',\n",
       " 'as',\n",
       " 'assert',\n",
       " 'async',\n",
       " 'await',\n",
       " 'break',\n",
       " 'class',\n",
       " 'continue',\n",
       " 'def',\n",
       " 'del',\n",
       " 'elif',\n",
       " 'else',\n",
       " 'except',\n",
       " 'finally',\n",
       " 'for',\n",
       " 'from',\n",
       " 'global',\n",
       " 'if',\n",
       " 'import',\n",
       " 'in',\n",
       " 'is',\n",
       " 'lambda',\n",
       " 'nonlocal',\n",
       " 'not',\n",
       " 'or',\n",
       " 'pass',\n",
       " 'raise',\n",
       " 'return',\n",
       " 'try',\n",
       " 'while',\n",
       " 'with',\n",
       " 'yield']"
      ]
     },
     "execution_count": 144,
     "metadata": {},
     "output_type": "execute_result"
    }
   ],
   "source": [
    "import keyword\n",
    "keyword.kwlist"
   ]
  },
  {
   "cell_type": "code",
   "execution_count": 146,
   "id": "f00f4c4c-84f6-4c53-bcdf-e3bf8b500ef1",
   "metadata": {},
   "outputs": [
    {
     "name": "stdout",
     "output_type": "stream",
     "text": [
      "140735419595480\n",
      "140735419595480\n",
      "in function 9\n",
      "out function 10\n"
     ]
    }
   ],
   "source": [
    "\n",
    "a = 10  \n",
    "print(id(a))\n",
    "\n",
    "def something():\n",
    "    a = 9\n",
    "    x = globals()['a']\n",
    "    \n",
    "    print(id(x))\n",
    "    print('in function',a)\n",
    "    \n",
    "        \n",
    "something()\n",
    "print('out function',a)"
   ]
  },
  {
   "cell_type": "code",
   "execution_count": 148,
   "id": "1b7557fa-6e78-4a0f-b44f-be067fc3d9da",
   "metadata": {},
   "outputs": [
    {
     "name": "stdout",
     "output_type": "stream",
     "text": [
      "140735419595480\n",
      "1786473870592\n",
      "in function 9\n",
      "out function 15\n"
     ]
    }
   ],
   "source": [
    "a = 10 \n",
    "print(id(a))\n",
    "\n",
    "def something():\n",
    "    a = 9\n",
    "    x = globals() # if i dont mention a then it will creat new memory\n",
    "    \n",
    "    print(id(x))\n",
    "    print('in function',a)\n",
    "    \n",
    "    globals()['a'] = 15\n",
    "    \n",
    "        \n",
    "something()\n",
    "print('out function',a)"
   ]
  },
  {
   "cell_type": "code",
   "execution_count": null,
   "id": "b0f34d09-c63d-4ad6-adde-b72a747ac40a",
   "metadata": {},
   "outputs": [],
   "source": []
  },
  {
   "cell_type": "markdown",
   "id": "e1ab53a5-2df3-411e-9909-49fda341ed09",
   "metadata": {},
   "source": [
    "# Global variable\n",
    "- The global keyword is used inside a funtion to indicate that a variable refers to a global ,not a local one"
   ]
  },
  {
   "cell_type": "code",
   "execution_count": 152,
   "id": "dee49fa6-ccb7-4497-8210-aa1b9d86277f",
   "metadata": {},
   "outputs": [
    {
     "name": "stdout",
     "output_type": "stream",
     "text": [
      "15\n"
     ]
    }
   ],
   "source": [
    "x = 10  # Global variable\n",
    "\n",
    "def update_x():\n",
    "    global x \n",
    "    x += 5    \n",
    "\n",
    "update_x()\n",
    "print(x)"
   ]
  },
  {
   "cell_type": "markdown",
   "id": "ef3f1f09-c9a1-4c9e-870b-9f5120775872",
   "metadata": {},
   "source": [
    "# Globals\n",
    "Globals() is a built-in function that returns a dictionary representing the current global symbol table.It allows you to access and modify global variables programming"
   ]
  },
  {
   "cell_type": "code",
   "execution_count": 157,
   "id": "c4871982-8505-4594-b264-64922ef16d26",
   "metadata": {},
   "outputs": [
    {
     "name": "stdout",
     "output_type": "stream",
     "text": [
      "15\n"
     ]
    }
   ],
   "source": [
    "x = 10 \n",
    "\n",
    "def update_x():\n",
    "    globals()['x'] += 5\n",
    "\n",
    "update_x()\n",
    "print(x)"
   ]
  },
  {
   "cell_type": "code",
   "execution_count": null,
   "id": "03435aa6-4f30-4e4f-b176-9fa2719ad83c",
   "metadata": {},
   "outputs": [],
   "source": []
  }
 ],
 "metadata": {
  "kernelspec": {
   "display_name": "Python 3 (ipykernel)",
   "language": "python",
   "name": "python3"
  },
  "language_info": {
   "codemirror_mode": {
    "name": "ipython",
    "version": 3
   },
   "file_extension": ".py",
   "mimetype": "text/x-python",
   "name": "python",
   "nbconvert_exporter": "python",
   "pygments_lexer": "ipython3",
   "version": "3.12.4"
  }
 },
 "nbformat": 4,
 "nbformat_minor": 5
}
